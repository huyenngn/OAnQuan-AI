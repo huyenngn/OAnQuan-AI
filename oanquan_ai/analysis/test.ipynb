{
 "cells": [
  {
   "cell_type": "code",
   "execution_count": 13,
   "metadata": {},
   "outputs": [],
   "source": [
    "from oanquan import OAnQuan, Move\n",
    "\n",
    "game = OAnQuan(board=[0, 0, 1, 0, 0, 0, 2, 0, 0, 1, 0, 1], turn=False)\n",
    "move = Move(pos=11, direction=1)\n",
    "game.make_move(move)"
   ]
  },
  {
   "cell_type": "code",
   "execution_count": 14,
   "metadata": {},
   "outputs": [
    {
     "data": {
      "text/plain": [
       "[1, 1, 1, 1, 1, 1, 2, 0, 0, 1, 0, 0]"
      ]
     },
     "execution_count": 14,
     "metadata": {},
     "output_type": "execute_result"
    }
   ],
   "source": [
    "game.board"
   ]
  },
  {
   "cell_type": "code",
   "execution_count": 15,
   "metadata": {},
   "outputs": [],
   "source": [
    "move = Move(pos=3, direction=1)\n",
    "game.make_move(move)"
   ]
  },
  {
   "cell_type": "code",
   "execution_count": null,
   "metadata": {},
   "outputs": [],
   "source": [
    "[1, 1, 1, 0, 2, 0, 3, 0, 0, 1, 0, 0]"
   ]
  },
  {
   "cell_type": "code",
   "execution_count": 16,
   "metadata": {},
   "outputs": [
    {
     "data": {
      "text/plain": [
       "[1, 1, 1, 0, 2, 0, 3, 0, 0, 1, 0, 0]"
      ]
     },
     "execution_count": 16,
     "metadata": {},
     "output_type": "execute_result"
    }
   ],
   "source": [
    "game.board"
   ]
  },
  {
   "cell_type": "code",
   "execution_count": null,
   "metadata": {},
   "outputs": [],
   "source": [
    "Proxy(Object) {board: Array(12), score: {…}, turn: false, end: false, allowed_moves: Array(1)}[[Handler]]: ti[[Target]]: Objectallowed_moves: [9]board: (12) [1, 0, 0, 0, 0, 0, 16, 0, 0, 1, 0, 0]end: falsescore: {COMPUTER: 12, PLAYER: 40}turn: false[[Prototype]]: Object[[IsRevoked]]: false 9 -1 {pos: 1, direction: -1}\n",
    "index-BKYSS_tX.js:26 Board state mismatch: Proxy(Array) {0: 1, 1: 0, 2: 0, 3: 0, 4: 0, 5: 0, 6: 0, 7: 0, 8: 1, 9: 0, 10: 0, 11: 0} Proxy(Array) {0: 2, 1: 0, 2: 1, 3: 1, 4: 1, 5: 1, 6: 0, 7: 0, 8: 1, 9: 0, 10: 0, 11: 0}"
   ]
  }
 ],
 "metadata": {
  "kernelspec": {
   "display_name": ".venv",
   "language": "python",
   "name": "python3"
  },
  "language_info": {
   "codemirror_mode": {
    "name": "ipython",
    "version": 3
   },
   "file_extension": ".py",
   "mimetype": "text/x-python",
   "name": "python",
   "nbconvert_exporter": "python",
   "pygments_lexer": "ipython3",
   "version": "3.10.12"
  }
 },
 "nbformat": 4,
 "nbformat_minor": 2
}
